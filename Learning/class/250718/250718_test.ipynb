{
 "cells": [
  {
   "cell_type": "code",
   "execution_count": 205,
   "id": "5d229142",
   "metadata": {},
   "outputs": [
    {
     "data": {
      "text/plain": [
       "(   0      1     2     3     4    5     6     7     8     9     10    11    12  \\\n",
       " 0   1  14.23  1.71  2.43  15.6  127  2.80  3.06  0.28  2.29  5.64  1.04  3.92   \n",
       " 1   1  13.20  1.78  2.14  11.2  100  2.65  2.76  0.26  1.28  4.38  1.05  3.40   \n",
       " 2   1  13.16  2.36  2.67  18.6  101  2.80  3.24  0.30  2.81  5.68  1.03  3.17   \n",
       " 3   1  14.37  1.95  2.50  16.8  113  3.85  3.49  0.24  2.18  7.80  0.86  3.45   \n",
       " 4   1  13.24  2.59  2.87  21.0  118  2.80  2.69  0.39  1.82  4.32  1.04  2.93   \n",
       " \n",
       "      13  \n",
       " 0  1065  \n",
       " 1  1050  \n",
       " 2  1185  \n",
       " 3  1480  \n",
       " 4   735  ,\n",
       " Index([0, 1, 2, 3, 4, 5, 6, 7, 8, 9, 10, 11, 12, 13], dtype='int64'))"
      ]
     },
     "execution_count": 205,
     "metadata": {},
     "output_type": "execute_result"
    }
   ],
   "source": [
    "import pandas as pd\n",
    "url = 'https://archive.ics.uci.edu/ml/machine-learning-databases/wine/wine.data'\n",
    "df = pd.read_csv(url, header=None)\n",
    "df.head(5),df.columns"
   ]
  },
  {
   "cell_type": "code",
   "execution_count": 206,
   "id": "ac5430ea",
   "metadata": {},
   "outputs": [],
   "source": [
    "# X = df.drop(columns=[0]).to_numpy()\n",
    "# y = df[0].to_numpy()\n",
    "\n",
    "X = df.iloc[:, 1:].to_numpy()\n",
    "y = df.iloc[:, 0].to_numpy()\n",
    "\n",
    "X.shape, y.shape\n",
    "\n",
    "y -= y.min()"
   ]
  },
  {
   "cell_type": "code",
   "execution_count": 207,
   "id": "92bacd9a",
   "metadata": {},
   "outputs": [],
   "source": [
    "from sklearn.preprocessing import StandardScaler\n",
    "\n",
    "scaler = StandardScaler()\n",
    "X = scaler.fit_transform(X)"
   ]
  },
  {
   "cell_type": "code",
   "execution_count": 208,
   "id": "0f124608",
   "metadata": {},
   "outputs": [],
   "source": [
    "from sklearn.model_selection import train_test_split\n",
    "\n",
    "X_train, X_test, y_train, y_test = train_test_split(\n",
    "    X, y, test_size=0.2, random_state=42, stratify=y\n",
    ")"
   ]
  },
  {
   "cell_type": "code",
   "execution_count": 209,
   "id": "18b40b36",
   "metadata": {},
   "outputs": [],
   "source": [
    "import torch\n",
    "\n",
    "X_train_tensor = torch.tensor(X_train, dtype=torch.float32)\n",
    "y_train_tensor = torch.tensor(y_train, dtype=torch.long)\n",
    "X_test_tensor = torch.tensor(X_test, dtype=torch.float32)\n",
    "y_test_tensor = torch.tensor(y_test, dtype=torch.long)"
   ]
  },
  {
   "cell_type": "code",
   "execution_count": 210,
   "id": "9890b99f",
   "metadata": {},
   "outputs": [],
   "source": [
    "import torch.nn as nn\n",
    "\n",
    "class WineNet(nn.Module):\n",
    "    def __init__(self, num_classes):\n",
    "        super(WineNet, self).__init__()\n",
    "        self.net = nn.Sequential(\n",
    "            nn.Linear(13, 64),\n",
    "            nn.ReLU(),\n",
    "            nn.Linear(64, num_classes)\n",
    "        )\n",
    "\n",
    "    def forward(self, x):\n",
    "        return self.net(x)"
   ]
  },
  {
   "cell_type": "code",
   "execution_count": 211,
   "id": "03ad98e9",
   "metadata": {},
   "outputs": [],
   "source": [
    "import numpy as np\n",
    "\n",
    "num_classes = len(np.unique(y))\n",
    "model = WineNet(num_classes)"
   ]
  },
  {
   "cell_type": "code",
   "execution_count": 212,
   "id": "8a387244",
   "metadata": {},
   "outputs": [],
   "source": [
    "import torch.optim as optim\n",
    "\n",
    "criterion = nn.CrossEntropyLoss()\n",
    "optimizer = optim.Adam(model.parameters(), lr=0.01)"
   ]
  },
  {
   "cell_type": "code",
   "execution_count": 213,
   "id": "905f1268",
   "metadata": {},
   "outputs": [
    {
     "name": "stdout",
     "output_type": "stream",
     "text": [
      "Epoch   5, Loss: 0.5453\n",
      "Epoch  10, Loss: 0.1779\n",
      "Epoch  15, Loss: 0.0616\n",
      "Epoch  20, Loss: 0.0247\n",
      "Epoch  25, Loss: 0.0124\n",
      "Epoch  30, Loss: 0.0070\n"
     ]
    }
   ],
   "source": [
    "epochs = 30\n",
    "loss_history = []\n",
    "for epoch in range(epochs):\n",
    "    outputs = model(X_train_tensor)\n",
    "    loss = criterion(outputs, y_train_tensor)\n",
    "\n",
    "    optimizer.zero_grad()\n",
    "    loss.backward()\n",
    "    optimizer.step()\n",
    "\n",
    "    loss_history.append(loss.item())\n",
    "    if (epoch + 1) % 5 == 0:\n",
    "        print(f\"Epoch {epoch+1:3d}, Loss: {loss.item():.4f}\")"
   ]
  },
  {
   "cell_type": "code",
   "execution_count": 214,
   "id": "33c531ec",
   "metadata": {},
   "outputs": [
    {
     "data": {
      "text/plain": [
       "'테스트 정확도: 97.22%'"
      ]
     },
     "execution_count": 214,
     "metadata": {},
     "output_type": "execute_result"
    }
   ],
   "source": [
    "from sklearn.metrics import accuracy_score\n",
    "\n",
    "model.eval()\n",
    "with torch.no_grad():\n",
    "    pred_test = model(X_test_tensor)\n",
    "    predicted = torch.argmax(pred_test, dim=1)\n",
    "    accuracy = accuracy_score(y_test, predicted.numpy())\n",
    "\n",
    "f\"테스트 정확도: {accuracy * 100:.2f}%\""
   ]
  },
  {
   "cell_type": "code",
   "execution_count": 215,
   "id": "4772fb10",
   "metadata": {},
   "outputs": [
    {
     "data": {
      "image/png": "[encoded data removed]",
      "text/plain": [
       "<Figure size 640x480 with 1 Axes>"
      ]
     },
     "metadata": {},
     "output_type": "display_data"
    }
   ],
   "source": [
    "import matplotlib.pyplot as plt\n",
    "\n",
    "plt.plot(loss_history)\n",
    "plt.title(\"Training Loss\")\n",
    "plt.xlabel(\"Epoch\")\n",
    "plt.ylabel(\"Loss\")\n",
    "plt.grid(True)\n",
    "plt.show()"
   ]
  }
 ],
 "metadata": {
  "kernelspec": {
   "display_name": "yolov8",
   "language": "python",
   "name": "python3"
  },
  "language_info": {
   "codemirror_mode": {
    "name": "ipython",
    "version": 3
   },
   "file_extension": ".py",
   "mimetype": "text/x-python",
   "name": "python",
   "nbconvert_exporter": "python",
   "pygments_lexer": "ipython3",
   "version": "3.8.20"
  }
 },
 "nbformat": 4,
 "nbformat_minor": 5
}
